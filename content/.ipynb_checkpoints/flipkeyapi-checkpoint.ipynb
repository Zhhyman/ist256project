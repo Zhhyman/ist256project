{
 "cells": [
  {
   "cell_type": "code",
   "execution_count": 47,
   "metadata": {},
   "outputs": [
    {
     "name": "stdout",
     "output_type": "stream",
     "text": [
      "Please enter the airport code you are coming from: MOW\n",
      "Please enter the airport code you are going to: RUS\n"
     ]
    },
    {
     "data": {
      "text/plain": [
       "{'data': None, 'message': 'Unauthorized', 'success': False}"
      ]
     },
     "execution_count": 47,
     "metadata": {},
     "output_type": "execute_result"
    }
   ],
   "source": [
    "import requests\n",
    "import json\n",
    "origin = input(\"Please enter the airport code you are coming from: \").upper()\n",
    "destination = input(\"Please enter the airport code you are going to: \").upper()\n",
    "month = '2018-05-05'\n",
    "params = {'origin':origin, 'destination':destination, 'month':month }\n",
    "headers = {'token' : '172fa57c41a4f389db82fb419cd90e58'}\n",
    "url = 'http://api.travelpayouts.com/v2/prices/month-matrix?currency=usd&origin=?&destination=?&show_to_affiliates=false&token=?'\n",
    "response = requests.get(url, params=params, headers=headers)\n",
    "flight_data = response.json()\n",
    "# distance = flight_data['distance']\n",
    "# distance\n",
    "flight_data"
   ]
  }
 ],
 "metadata": {
  "kernelspec": {
   "display_name": "Python 3",
   "language": "python",
   "name": "python3"
  },
  "language_info": {
   "codemirror_mode": {
    "name": "ipython",
    "version": 3
   },
   "file_extension": ".py",
   "mimetype": "text/x-python",
   "name": "python",
   "nbconvert_exporter": "python",
   "pygments_lexer": "ipython3",
   "version": "3.6.3"
  }
 },
 "nbformat": 4,
 "nbformat_minor": 2
}
