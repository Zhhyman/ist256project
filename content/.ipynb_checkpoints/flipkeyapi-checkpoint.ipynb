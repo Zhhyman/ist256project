{
 "cells": [
  {
   "cell_type": "code",
   "execution_count": 36,
   "metadata": {},
   "outputs": [
    {
     "ename": "SyntaxError",
     "evalue": "invalid syntax (<ipython-input-36-4adaf92dba27>, line 1)",
     "output_type": "error",
     "traceback": [
      "\u001b[1;36m  File \u001b[1;32m\"<ipython-input-36-4adaf92dba27>\"\u001b[1;36m, line \u001b[1;32m1\u001b[0m\n\u001b[1;33m    import Location Weather\u001b[0m\n\u001b[1;37m                          ^\u001b[0m\n\u001b[1;31mSyntaxError\u001b[0m\u001b[1;31m:\u001b[0m invalid syntax\n"
     ]
    }
   ],
   "source": [
    "import Location_Weather"
   ]
  },
  {
   "cell_type": "code",
   "execution_count": 8,
   "metadata": {},
   "outputs": [
    {
     "name": "stdout",
     "output_type": "stream",
     "text": [
      "Please enter a city and country to where you would like to travel to: London, United Kingdom\n",
      "Here are some airports near that location \n"
     ]
    },
    {
     "data": {
      "text/html": [
       "<div>\n",
       "<style scoped>\n",
       "    .dataframe tbody tr th:only-of-type {\n",
       "        vertical-align: middle;\n",
       "    }\n",
       "\n",
       "    .dataframe tbody tr th {\n",
       "        vertical-align: top;\n",
       "    }\n",
       "\n",
       "    .dataframe thead th {\n",
       "        text-align: right;\n",
       "    }\n",
       "</style>\n",
       "<table border=\"1\" class=\"dataframe\">\n",
       "  <thead>\n",
       "    <tr style=\"text-align: right;\">\n",
       "      <th></th>\n",
       "      <th>Airport name</th>\n",
       "      <th>Code</th>\n",
       "    </tr>\n",
       "  </thead>\n",
       "  <tbody>\n",
       "    <tr>\n",
       "      <th>1673</th>\n",
       "      <td>London City Airport</td>\n",
       "      <td>LCY</td>\n",
       "    </tr>\n",
       "    <tr>\n",
       "      <th>2496</th>\n",
       "      <td>England</td>\n",
       "      <td>QQK</td>\n",
       "    </tr>\n",
       "    <tr>\n",
       "      <th>2499</th>\n",
       "      <td>Paddington Station</td>\n",
       "      <td>QQP</td>\n",
       "    </tr>\n",
       "    <tr>\n",
       "      <th>2501</th>\n",
       "      <td>Birmingham International Airport</td>\n",
       "      <td>QQU</td>\n",
       "    </tr>\n",
       "    <tr>\n",
       "      <th>2502</th>\n",
       "      <td>Waterloo Railway Station</td>\n",
       "      <td>QQW</td>\n",
       "    </tr>\n",
       "    <tr>\n",
       "      <th>3360</th>\n",
       "      <td>London City Airport</td>\n",
       "      <td>XET</td>\n",
       "    </tr>\n",
       "    <tr>\n",
       "      <th>3400</th>\n",
       "      <td>London City Airport</td>\n",
       "      <td>XIT</td>\n",
       "    </tr>\n",
       "    <tr>\n",
       "      <th>3437</th>\n",
       "      <td>United Kingdom</td>\n",
       "      <td>XQE</td>\n",
       "    </tr>\n",
       "    <tr>\n",
       "      <th>3780</th>\n",
       "      <td>London City Airport</td>\n",
       "      <td>ZDU</td>\n",
       "    </tr>\n",
       "    <tr>\n",
       "      <th>3786</th>\n",
       "      <td></td>\n",
       "      <td>ZEP</td>\n",
       "    </tr>\n",
       "    <tr>\n",
       "      <th>3814</th>\n",
       "      <td>England</td>\n",
       "      <td>ZLS</td>\n",
       "    </tr>\n",
       "  </tbody>\n",
       "</table>\n",
       "</div>"
      ],
      "text/plain": [
       "                          Airport name Code\n",
       "1673               London City Airport  LCY\n",
       "2496                           England  QQK\n",
       "2499                Paddington Station  QQP\n",
       "2501  Birmingham International Airport  QQU\n",
       "2502          Waterloo Railway Station  QQW\n",
       "3360               London City Airport  XET\n",
       "3400               London City Airport  XIT\n",
       "3437                    United Kingdom  XQE\n",
       "3780               London City Airport  ZDU\n",
       "3786                                    ZEP\n",
       "3814                           England  ZLS"
      ]
     },
     "execution_count": 8,
     "metadata": {},
     "output_type": "execute_result"
    }
   ],
   "source": [
    "import requests\n",
    "import pandas as pd\n",
    "import json \n",
    "user_location = input(\"Please enter a city and country to where you would like to travel to: \").title()\n",
    "ccsplit = user_location.split(', ')\n",
    "city = ccsplit[0]\n",
    "country = ccsplit[1].title()\n",
    "url = 'https://gist.githubusercontent.com/tdreyno/4278655/raw/7b0762c09b519f40397e4c3e100b097d861f5588/airports.json'\n",
    "data = pd.read_json(url)\n",
    "# data\n",
    "user_city = data[data['city']==city]\n",
    "user_country = data[data['country']==country]\n",
    "if city == data['city'].all() or country == data['country'].all():\n",
    "    print(\"Invalid Input\") \n",
    "else:\n",
    "    print('Here are some airports near that location ')\n",
    "\n",
    "airport_code = user_country['code']\n",
    "airport_name = user_city['name']\n",
    "\n",
    "user_location_df = pd.DataFrame({'Code':airport_code,'Airport name':airport_name})\n",
    "# destination_df = destination_df.drop(['elev', 'email','carriers','icao','runway_length','woeid'], axis=1)\n",
    "user_location_df.dropna()\n",
    "\n"
   ]
  },
  {
   "cell_type": "code",
   "execution_count": 9,
   "metadata": {},
   "outputs": [],
   "source": [
    "try:\n",
    "    response = requests.get(url)  # throws an exception when it cannot connect\n",
    "    response.raise_for_status()   # throws an exception when not 'ok'\n",
    "    \n",
    "except json.decoder.JSONDecodeError as e: \n",
    "    print(\"ERROR: Cannot decode the response into json\")\n",
    "    print(\"DETAILS\", e)\n",
    "\n",
    "# response not ok\n",
    "except requests.exceptions.HTTPError as e:\n",
    "    print(\"ERROR: Response from \", url, 'was not ok.')\n",
    "    print(\"DETAILS:\", e)\n",
    "        \n",
    "# internet is broken\n",
    "except requests.exceptions.RequestException as e: \n",
    "    print(\"ERROR: Cannot connect to \", url)\n",
    "    print(\"DETAILS:\", e)\n",
    "\n",
    "except ConnectionError as e:\n",
    "    print('ERROR:',e)"
   ]
  },
  {
   "cell_type": "code",
   "execution_count": 2,
   "metadata": {},
   "outputs": [
    {
     "name": "stdout",
     "output_type": "stream",
     "text": [
      "\n",
      "\n",
      "Package plan for installation in environment C:\\ProgramData\\Miniconda3:\n",
      "\n",
      "The following NEW packages will be INSTALLED:\n",
      "\n",
      "    beautifulsoup4:  4.6.0-py36h4361f19_1 \n",
      "    cycler:          0.10.0-py36hd299a41_0\n",
      "    freetype:        2.8-h0224ed4_1       \n",
      "    icc_rt:          2017.0.4-h97af966_0  \n",
      "    icu:             58.2-h3fcc66b_1      \n",
      "    intel-openmp:    2018.0.0-8           \n",
      "    jpeg:            9b-he27b436_2        \n",
      "    kiwisolver:      1.0.1-py36h7de1d16_0 \n",
      "    libpng:          1.6.34-h79bbb47_0    \n",
      "    matplotlib:      2.2.2-py36h153e9ff_1 \n",
      "    mkl:             2018.0.2-1           \n",
      "    mkl_fft:         1.0.1-py36h452e1ab_0 \n",
      "    mkl_random:      1.0.1-py36h9258bd6_0 \n",
      "    numpy:           1.14.2-py36h5c71026_1\n",
      "    pandas:          0.22.0-py36h6538335_0\n",
      "    pyparsing:       2.2.0-py36h9ef7486_1 \n",
      "    pyqt:            5.9.2-py36h1aa27d4_0 \n",
      "    python-dateutil: 2.7.2-py36_0         \n",
      "    pytz:            2018.4-py36_0        \n",
      "    qt:              5.9.5-vc14he4a7d60_0 \n",
      "    sip:             4.19.8-py36h6538335_0\n",
      "    sqlite:          3.23.1-h35aae40_0    \n",
      "    tornado:         5.0.2-py36_0         \n",
      "    zlib:            1.2.11-hbb18732_2    \n",
      "\n",
      "The following packages will be UPDATED:\n",
      "\n",
      "    conda:           4.3.31-py36_0         --> 4.5.2-py36_0     \n",
      "    openssl:         1.0.2n-h74b6da3_0     --> 1.0.2o-h8ea7d77_0\n",
      "\n"
     ]
    },
    {
     "name": "stderr",
     "output_type": "stream",
     "text": [
      "\n",
      "CondaIOError: Missing write permissions in: C:\\ProgramData\\Miniconda3\n",
      "#\n",
      "# You don't appear to have the necessary permissions to install packages\n",
      "# into the install area 'C:\\ProgramData\\Miniconda3'.\n",
      "# However you can clone this environment into your home directory and\n",
      "# then make changes to it.\n",
      "# This may be done using the command:\n",
      "#\n",
      "# $ conda create -n my_root --clone=\"C:\\ProgramData\\Miniconda3\"\n",
      "\n",
      "\n"
     ]
    },
    {
     "name": "stdout",
     "output_type": "stream",
     "text": [
      "Requirement already satisfied: requests in c:\\programdata\\miniconda3\\lib\\site-packages\n",
      "Requirement already satisfied: html5 in c:\\programdata\\miniconda3\\lib\\site-packages\n",
      "Requirement already satisfied: lxml in c:\\programdata\\miniconda3\\lib\\site-packages\n",
      "Requirement already satisfied: chardet<3.1.0,>=3.0.2 in c:\\programdata\\miniconda3\\lib\\site-packages (from requests)\n",
      "Requirement already satisfied: idna<2.7,>=2.5 in c:\\programdata\\miniconda3\\lib\\site-packages (from requests)\n",
      "Requirement already satisfied: urllib3<1.23,>=1.21.1 in c:\\programdata\\miniconda3\\lib\\site-packages (from requests)\n",
      "Requirement already satisfied: certifi>=2017.4.17 in c:\\programdata\\miniconda3\\lib\\site-packages (from requests)\n",
      "Requirement already satisfied: six in c:\\programdata\\miniconda3\\lib\\site-packages (from html5)\n",
      "Requirement already satisfied: webencodings in c:\\programdata\\miniconda3\\lib\\site-packages (from html5)\n",
      "Requirement already satisfied: setuptools>=18.5 in c:\\programdata\\miniconda3\\lib\\site-packages (from html5)\n"
     ]
    },
    {
     "name": "stderr",
     "output_type": "stream",
     "text": [
      "You are using pip version 9.0.1, however version 10.0.1 is available.\n",
      "You should consider upgrading via the 'python -m pip install --upgrade pip' command.\n"
     ]
    },
    {
     "name": "stdout",
     "output_type": "stream",
     "text": [
      "Requirement already satisfied: plotly in c:\\programdata\\miniconda3\\lib\\site-packages\n",
      "Requirement already satisfied: cufflinks in c:\\programdata\\miniconda3\\lib\\site-packages\n",
      "Requirement already satisfied: folium in c:\\programdata\\miniconda3\\lib\\site-packages\n",
      "Requirement already satisfied: pytz in c:\\programdata\\miniconda3\\lib\\site-packages (from plotly)\n",
      "Requirement already satisfied: decorator>=4.0.6 in c:\\programdata\\miniconda3\\lib\\site-packages (from plotly)\n",
      "Requirement already satisfied: nbformat>=4.2 in c:\\programdata\\miniconda3\\lib\\site-packages (from plotly)\n",
      "Requirement already satisfied: six in c:\\programdata\\miniconda3\\lib\\site-packages (from plotly)\n",
      "Requirement already satisfied: requests in c:\\programdata\\miniconda3\\lib\\site-packages (from plotly)\n",
      "Requirement already satisfied: pandas in c:\\programdata\\miniconda3\\lib\\site-packages (from cufflinks)\n",
      "Requirement already satisfied: colorlover>=0.2 in c:\\programdata\\miniconda3\\lib\\site-packages (from cufflinks)\n",
      "Requirement already satisfied: jinja2 in c:\\programdata\\miniconda3\\lib\\site-packages (from folium)\n",
      "Requirement already satisfied: branca in c:\\programdata\\miniconda3\\lib\\site-packages (from folium)\n",
      "Requirement already satisfied: jupyter-core in c:\\programdata\\miniconda3\\lib\\site-packages (from nbformat>=4.2->plotly)\n",
      "Requirement already satisfied: ipython-genutils in c:\\programdata\\miniconda3\\lib\\site-packages (from nbformat>=4.2->plotly)\n",
      "Requirement already satisfied: traitlets>=4.1 in c:\\programdata\\miniconda3\\lib\\site-packages (from nbformat>=4.2->plotly)\n",
      "Requirement already satisfied: jsonschema!=2.5.0,>=2.4 in c:\\programdata\\miniconda3\\lib\\site-packages (from nbformat>=4.2->plotly)\n",
      "Requirement already satisfied: chardet<3.1.0,>=3.0.2 in c:\\programdata\\miniconda3\\lib\\site-packages (from requests->plotly)\n",
      "Requirement already satisfied: idna<2.7,>=2.5 in c:\\programdata\\miniconda3\\lib\\site-packages (from requests->plotly)\n",
      "Requirement already satisfied: urllib3<1.23,>=1.21.1 in c:\\programdata\\miniconda3\\lib\\site-packages (from requests->plotly)\n",
      "Requirement already satisfied: certifi>=2017.4.17 in c:\\programdata\\miniconda3\\lib\\site-packages (from requests->plotly)\n",
      "Requirement already satisfied: python-dateutil>=2 in c:\\programdata\\miniconda3\\lib\\site-packages (from pandas->cufflinks)\n",
      "Requirement already satisfied: numpy>=1.9.0 in c:\\programdata\\miniconda3\\lib\\site-packages (from pandas->cufflinks)\n",
      "Requirement already satisfied: MarkupSafe>=0.23 in c:\\programdata\\miniconda3\\lib\\site-packages (from jinja2->folium)\n"
     ]
    },
    {
     "name": "stderr",
     "output_type": "stream",
     "text": [
      "You are using pip version 9.0.1, however version 10.0.1 is available.\n",
      "You should consider upgrading via the 'python -m pip install --upgrade pip' command.\n"
     ]
    }
   ],
   "source": [
    "!conda install -y -q  pandas matplotlib beautifulsoup4\n",
    "!pip install requests html5 lxml\n",
    "!pip install plotly cufflinks folium\n",
    "# user_class = data[data['city_code']==destination]\n",
    "# print('Here are some airports near that location ')\n",
    "# user_class"
   ]
  },
  {
   "cell_type": "code",
   "execution_count": 173,
   "metadata": {},
   "outputs": [
    {
     "name": "stdout",
     "output_type": "stream",
     "text": [
      "No Python documentation found for 'Anaa'.\n",
      "Use help() to get the interactive help utility.\n",
      "Use help(str) for help on the str class.\n",
      "\n"
     ]
    }
   ],
   "source": [
    "help(data['city'].any())"
   ]
  }
 ],
 "metadata": {
  "kernelspec": {
   "display_name": "Python 3",
   "language": "python",
   "name": "python3"
  },
  "language_info": {
   "codemirror_mode": {
    "name": "ipython",
    "version": 3
   },
   "file_extension": ".py",
   "mimetype": "text/x-python",
   "name": "python",
   "nbconvert_exporter": "python",
   "pygments_lexer": "ipython3",
   "version": "3.6.3"
  }
 },
 "nbformat": 4,
 "nbformat_minor": 2
}
