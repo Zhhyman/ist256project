{
 "cells": [
  {
   "cell_type": "code",
   "execution_count": 3,
   "metadata": {},
   "outputs": [
    {
     "ename": "NameError",
     "evalue": "name 'dataCountries' is not defined",
     "output_type": "error",
     "traceback": [
      "\u001b[0;31m---------------------------------------------------------------------------\u001b[0m",
      "\u001b[0;31mNameError\u001b[0m                                 Traceback (most recent call last)",
      "\u001b[0;32m<ipython-input-3-0cf0ad362490>\u001b[0m in \u001b[0;36m<module>\u001b[0;34m()\u001b[0m\n\u001b[1;32m      6\u001b[0m     \u001b[0mdataCurrency\u001b[0m \u001b[0;34m=\u001b[0m \u001b[0mjson\u001b[0m\u001b[0;34m.\u001b[0m\u001b[0mload\u001b[0m\u001b[0;34m(\u001b[0m\u001b[0mjson_file\u001b[0m\u001b[0;34m)\u001b[0m\u001b[0;34m\u001b[0m\u001b[0m\n\u001b[1;32m      7\u001b[0m \u001b[0;34m\u001b[0m\u001b[0m\n\u001b[0;32m----> 8\u001b[0;31m \u001b[0;32mfor\u001b[0m \u001b[0mn\u001b[0m \u001b[0;32min\u001b[0m \u001b[0mrange\u001b[0m\u001b[0;34m(\u001b[0m\u001b[0;36m0\u001b[0m\u001b[0;34m,\u001b[0m \u001b[0mlen\u001b[0m\u001b[0;34m(\u001b[0m\u001b[0mdataCountries\u001b[0m\u001b[0;34m)\u001b[0m\u001b[0;34m)\u001b[0m\u001b[0;34m:\u001b[0m\u001b[0;34m\u001b[0m\u001b[0m\n\u001b[0m\u001b[1;32m      9\u001b[0m     \u001b[0;32mif\u001b[0m \u001b[0mdataCountries\u001b[0m\u001b[0;34m[\u001b[0m\u001b[0mn\u001b[0m\u001b[0;34m]\u001b[0m\u001b[0;34m[\u001b[0m\u001b[0;34m'name'\u001b[0m\u001b[0;34m]\u001b[0m \u001b[0;34m==\u001b[0m \u001b[0mcountry\u001b[0m\u001b[0;34m:\u001b[0m\u001b[0;34m\u001b[0m\u001b[0m\n\u001b[1;32m     10\u001b[0m         \u001b[0mcountryCode\u001b[0m \u001b[0;34m=\u001b[0m \u001b[0mdataCountries\u001b[0m\u001b[0;34m[\u001b[0m\u001b[0mn\u001b[0m\u001b[0;34m]\u001b[0m\u001b[0;34m[\u001b[0m\u001b[0;34m'code'\u001b[0m\u001b[0;34m]\u001b[0m\u001b[0;34m\u001b[0m\u001b[0m\n",
      "\u001b[0;31mNameError\u001b[0m: name 'dataCountries' is not defined"
     ]
    }
   ],
   "source": [
    "import exchange\n",
    "import json\n",
    "\n",
    "\n",
    "with open(\"countryCurrency.json\") as json_file:\n",
    "    dataCurrency = json.load(json_file)\n",
    "\n",
    "for n in range(0, len(dataCountries)):\n",
    "    if dataCountries[n]['name'] == country:\n",
    "        countryCode = dataCountries[n]['code']\n",
    "        print(countryCode)\n",
    "        break\n",
    "try:\n",
    "    print((\"{0:.2f}\".format(exchange.rate('USD', countryCurrency))))\n",
    "except Exception as inst:\n",
    "    exError = inst\n",
    "    pass\n",
    "\n",
    "countryCurrency = dataCurrency[countryCode]\n"
   ]
  },
  {
   "cell_type": "code",
   "execution_count": null,
   "metadata": {},
   "outputs": [],
   "source": [
    "remember to pip install exchange and add the jsons to the same folder \n",
    "destination = input(\"Enter a city and country: \").title()\n",
    "ccsplit = destination.split(', ')\n",
    "city = ccsplit[0]\n",
    "country = ccsplit[1].title()\n"
   ]
  },
  {
   "cell_type": "code",
   "execution_count": 19,
   "metadata": {},
   "outputs": [
    {
     "ename": "ModuleNotFoundError",
     "evalue": "No module named 'ex'",
     "output_type": "error",
     "traceback": [
      "\u001b[0;31m---------------------------------------------------------------------------\u001b[0m",
      "\u001b[0;31mModuleNotFoundError\u001b[0m                       Traceback (most recent call last)",
      "\u001b[0;32m<ipython-input-19-5688124940c6>\u001b[0m in \u001b[0;36m<module>\u001b[0;34m()\u001b[0m\n\u001b[0;32m----> 1\u001b[0;31m \u001b[0;32mimport\u001b[0m \u001b[0mex\u001b[0m\u001b[0;34m\u001b[0m\u001b[0m\n\u001b[0m\u001b[1;32m      2\u001b[0m \u001b[0;32mimport\u001b[0m \u001b[0mjson\u001b[0m\u001b[0;34m\u001b[0m\u001b[0m\n\u001b[1;32m      3\u001b[0m \u001b[0;34m\u001b[0m\u001b[0m\n\u001b[1;32m      4\u001b[0m \u001b[0;32mdef\u001b[0m \u001b[0mmain\u001b[0m\u001b[0;34m(\u001b[0m\u001b[0;34m)\u001b[0m\u001b[0;34m:\u001b[0m\u001b[0;34m\u001b[0m\u001b[0m\n\u001b[1;32m      5\u001b[0m \u001b[0;34m\u001b[0m\u001b[0m\n",
      "\u001b[0;31mModuleNotFoundError\u001b[0m: No module named 'ex'"
     ]
    }
   ],
   "source": [
    "import ex\n",
    "import json\n",
    " \n",
    "def main():\n",
    " \n",
    "    # Full name country\n",
    "    country = \"Canada\"\n",
    " \n",
    "    # Opens JSONs\n",
    "    with open(\"countries.json\") as json_file:\n",
    "        dataCountries = json.load(json_file)\n",
    " \n",
    "    with open(\"countryCurrency.json\") as json_file:\n",
    "        dataCurrency = json.load(json_file)\n",
    " \n",
    "    try:\n",
    "        # Parses JSON file of countries and abbrevations\n",
    "        for n in range(0, len(dataCountries)):\n",
    "            # If the country's name matches the one in the JSON it takes the abbrevation of that country\n",
    "            if dataCountries[n]['name'] == country:\n",
    "                countryCode = dataCountries[n]['code']\n",
    "                break\n",
    " \n",
    "        # Takes the country's abbrevation and gets their currency (Ex. USA to USD)\n",
    "        countryCurrency = dataCurrency[countryCode]\n",
    " \n",
    "    except Exception as e:\n",
    "        print(\"An entry was no present in the JSON file.\")\n",
    "        print(e)\n",
    " \n",
    " \n",
    "    try:\n",
    "        # USD is hard coded, this can be changed.\n",
    "        # ex.rate works by sending it the USD and another country's currency, then reaches out to other places\n",
    "        # to compare and find accurate exchange rate.\n",
    "        print(\"1USD = {0:.2f}\".format(ex.rate('USD', countryCurrency)))\n",
    "    except Exception as inst:\n",
    "        print(inst)\n",
    "        exError = inst\n",
    "        pass\n",
    " \n",
    " \n",
    "if __name__ == '__main__':\n",
    "    main()"
   ]
  },
  {
   "cell_type": "code",
   "execution_count": 18,
   "metadata": {},
   "outputs": [
    {
     "name": "stdout",
     "output_type": "stream",
     "text": [
      "Requirement already satisfied: ex in /Users/Yvonne/miniconda3/lib/python3.6/site-packages\n",
      "\u001b[33mYou are using pip version 9.0.1, however version 10.0.1 is available.\n",
      "You should consider upgrading via the 'pip install --upgrade pip' command.\u001b[0m\n"
     ]
    }
   ],
   "source": [
    "!pip install ex"
   ]
  },
  {
   "cell_type": "code",
   "execution_count": 27,
   "metadata": {},
   "outputs": [
    {
     "name": "stdout",
     "output_type": "stream",
     "text": [
      "1USD = 1.29\n"
     ]
    }
   ],
   "source": [
    "import ex\n",
    "import json\n",
    " \n",
    "def main():\n",
    " \n",
    "    # Full name country\n",
    "    country = \"Canada\"\n",
    " \n",
    "    # Opens JSONs\n",
    "    with open(\"countries.json\") as json_file:\n",
    "        dataCountries = json.load(json_file)\n",
    " \n",
    "    with open(\"countryCurrency.json\") as json_file:\n",
    "        dataCurrency = json.load(json_file)\n",
    " \n",
    "    try:\n",
    "        # Parses JSON file of countries and abbrevations\n",
    "        for n in range(0, len(dataCountries)):\n",
    "            # If the country's name matches the one in the JSON it takes the abbrevation of that country\n",
    "            if dataCountries[n]['name'] == country:\n",
    "                countryCode = dataCountries[n]['code']\n",
    "                break\n",
    " \n",
    "        # Takes the country's abbrevation and gets their currency (Ex. USA to USD)\n",
    "        countryCurrency = dataCurrency[countryCode]\n",
    " \n",
    "    except Exception as e:\n",
    "        print(\"An entry was no present in the JSON file.\")\n",
    "        print(e)\n",
    " \n",
    " \n",
    "    try:\n",
    "        # USD is hard coded, this can be changed.\n",
    "        # ex.rate works by sending it the USD and another country's currency, then reaches out to other places\n",
    "        # to compare and find accurate exchange rate.\n",
    "        print(\"1USD = {0:.2f}\".format(ex.rate('USD', countryCurrency)))\n",
    "    except Exception as inst:\n",
    "        print(inst)\n",
    "        exError = inst\n",
    "        pass\n",
    " \n",
    " \n",
    "if __name__ == '__main__':\n",
    "    main()"
   ]
  },
  {
   "cell_type": "code",
   "execution_count": null,
   "metadata": {},
   "outputs": [],
   "source": []
  }
 ],
 "metadata": {
  "kernelspec": {
   "display_name": "Python 3",
   "language": "python",
   "name": "python3"
  },
  "language_info": {
   "codemirror_mode": {
    "name": "ipython",
    "version": 3
   },
   "file_extension": ".py",
   "mimetype": "text/x-python",
   "name": "python",
   "nbconvert_exporter": "python",
   "pygments_lexer": "ipython3",
   "version": "3.6.4"
  }
 },
 "nbformat": 4,
 "nbformat_minor": 2
}
