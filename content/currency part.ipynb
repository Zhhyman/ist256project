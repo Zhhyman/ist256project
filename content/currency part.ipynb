{
 "cells": [
  {
   "cell_type": "code",
   "execution_count": 3,
   "metadata": {},
   "outputs": [
    {
     "ename": "NameError",
     "evalue": "name 'dataCountries' is not defined",
     "output_type": "error",
     "traceback": [
      "\u001b[0;31m---------------------------------------------------------------------------\u001b[0m",
      "\u001b[0;31mNameError\u001b[0m                                 Traceback (most recent call last)",
      "\u001b[0;32m<ipython-input-3-0cf0ad362490>\u001b[0m in \u001b[0;36m<module>\u001b[0;34m()\u001b[0m\n\u001b[1;32m      6\u001b[0m     \u001b[0mdataCurrency\u001b[0m \u001b[0;34m=\u001b[0m \u001b[0mjson\u001b[0m\u001b[0;34m.\u001b[0m\u001b[0mload\u001b[0m\u001b[0;34m(\u001b[0m\u001b[0mjson_file\u001b[0m\u001b[0;34m)\u001b[0m\u001b[0;34m\u001b[0m\u001b[0m\n\u001b[1;32m      7\u001b[0m \u001b[0;34m\u001b[0m\u001b[0m\n\u001b[0;32m----> 8\u001b[0;31m \u001b[0;32mfor\u001b[0m \u001b[0mn\u001b[0m \u001b[0;32min\u001b[0m \u001b[0mrange\u001b[0m\u001b[0;34m(\u001b[0m\u001b[0;36m0\u001b[0m\u001b[0;34m,\u001b[0m \u001b[0mlen\u001b[0m\u001b[0;34m(\u001b[0m\u001b[0mdataCountries\u001b[0m\u001b[0;34m)\u001b[0m\u001b[0;34m)\u001b[0m\u001b[0;34m:\u001b[0m\u001b[0;34m\u001b[0m\u001b[0m\n\u001b[0m\u001b[1;32m      9\u001b[0m     \u001b[0;32mif\u001b[0m \u001b[0mdataCountries\u001b[0m\u001b[0;34m[\u001b[0m\u001b[0mn\u001b[0m\u001b[0;34m]\u001b[0m\u001b[0;34m[\u001b[0m\u001b[0;34m'name'\u001b[0m\u001b[0;34m]\u001b[0m \u001b[0;34m==\u001b[0m \u001b[0mcountry\u001b[0m\u001b[0;34m:\u001b[0m\u001b[0;34m\u001b[0m\u001b[0m\n\u001b[1;32m     10\u001b[0m         \u001b[0mcountryCode\u001b[0m \u001b[0;34m=\u001b[0m \u001b[0mdataCountries\u001b[0m\u001b[0;34m[\u001b[0m\u001b[0mn\u001b[0m\u001b[0;34m]\u001b[0m\u001b[0;34m[\u001b[0m\u001b[0;34m'code'\u001b[0m\u001b[0;34m]\u001b[0m\u001b[0;34m\u001b[0m\u001b[0m\n",
      "\u001b[0;31mNameError\u001b[0m: name 'dataCountries' is not defined"
     ]
    }
   ],
   "source": [
    "import exchange\n",
    "import json\n",
    "\n",
    "\n",
    "with open(\"countryCurrency.json\") as json_file:\n",
    "    dataCurrency = json.load(json_file)\n",
    "\n",
    "for n in range(0, len(dataCountries)):\n",
    "    if dataCountries[n]['name'] == country:\n",
    "        countryCode = dataCountries[n]['code']\n",
    "        print(countryCode)\n",
    "        break\n",
    "try:\n",
    "    print((\"{0:.2f}\".format(exchange.rate('USD', countryCurrency))))\n",
    "except Exception as inst:\n",
    "    exError = inst\n",
    "    pass\n",
    "\n",
    "countryCurrency = dataCurrency[countryCode]\n"
   ]
  },
  {
   "cell_type": "code",
   "execution_count": null,
   "metadata": {},
   "outputs": [],
   "source": [
    "remember to pip install exchange and add the jsons to the same folder \n",
    "destination = input(\"Enter a city and country: \").title()\n",
    "ccsplit = destination.split(', ')\n",
    "city = ccsplit[0]\n",
    "country = ccsplit[1].title()\n"
   ]
  },
  {
   "cell_type": "code",
   "execution_count": 9,
   "metadata": {},
   "outputs": [
    {
     "name": "stderr",
     "output_type": "stream",
     "text": [
      "Exchange Exception: ConnectionError(MaxRetryError(\"HTTPConnectionPool(host='download.finance.yahoo.com', port=80): Max retries exceeded with url: /d/quotes.csv?e=.csv&f=sl1d1t1&s=USDCAD%3DX (Caused by NewConnectionError('<urllib3.connection.HTTPConnection object at 0x110a1f860>: Failed to establish a new connection: [Errno 8] nodename nor servname provided, or not known',))\",),)\n",
      "Traceback (most recent call last):\n",
      "  File \"/Users/Yvonne/miniconda3/lib/python3.6/site-packages/urllib3/connection.py\", line 141, in _new_conn\n",
      "    (self.host, self.port), self.timeout, **extra_kw)\n",
      "  File \"/Users/Yvonne/miniconda3/lib/python3.6/site-packages/urllib3/util/connection.py\", line 60, in create_connection\n",
      "    for res in socket.getaddrinfo(host, port, family, socket.SOCK_STREAM):\n",
      "  File \"/Users/Yvonne/miniconda3/lib/python3.6/socket.py\", line 745, in getaddrinfo\n",
      "    for res in _socket.getaddrinfo(host, port, family, type, proto, flags):\n",
      "socket.gaierror: [Errno 8] nodename nor servname provided, or not known\n",
      "\n",
      "During handling of the above exception, another exception occurred:\n",
      "\n",
      "Traceback (most recent call last):\n",
      "  File \"/Users/Yvonne/miniconda3/lib/python3.6/site-packages/urllib3/connectionpool.py\", line 601, in urlopen\n",
      "    chunked=chunked)\n",
      "  File \"/Users/Yvonne/miniconda3/lib/python3.6/site-packages/urllib3/connectionpool.py\", line 357, in _make_request\n",
      "    conn.request(method, url, **httplib_request_kw)\n",
      "  File \"/Users/Yvonne/miniconda3/lib/python3.6/http/client.py\", line 1239, in request\n",
      "    self._send_request(method, url, body, headers, encode_chunked)\n",
      "  File \"/Users/Yvonne/miniconda3/lib/python3.6/http/client.py\", line 1285, in _send_request\n",
      "    self.endheaders(body, encode_chunked=encode_chunked)\n",
      "  File \"/Users/Yvonne/miniconda3/lib/python3.6/http/client.py\", line 1234, in endheaders\n",
      "    self._send_output(message_body, encode_chunked=encode_chunked)\n",
      "  File \"/Users/Yvonne/miniconda3/lib/python3.6/http/client.py\", line 1026, in _send_output\n",
      "    self.send(msg)\n",
      "  File \"/Users/Yvonne/miniconda3/lib/python3.6/http/client.py\", line 964, in send\n",
      "    self.connect()\n",
      "  File \"/Users/Yvonne/miniconda3/lib/python3.6/site-packages/urllib3/connection.py\", line 166, in connect\n",
      "    conn = self._new_conn()\n",
      "  File \"/Users/Yvonne/miniconda3/lib/python3.6/site-packages/urllib3/connection.py\", line 150, in _new_conn\n",
      "    self, \"Failed to establish a new connection: %s\" % e)\n",
      "urllib3.exceptions.NewConnectionError: <urllib3.connection.HTTPConnection object at 0x110a1f860>: Failed to establish a new connection: [Errno 8] nodename nor servname provided, or not known\n",
      "\n",
      "During handling of the above exception, another exception occurred:\n",
      "\n",
      "Traceback (most recent call last):\n",
      "  File \"/Users/Yvonne/miniconda3/lib/python3.6/site-packages/requests/adapters.py\", line 440, in send\n",
      "    timeout=timeout\n",
      "  File \"/Users/Yvonne/miniconda3/lib/python3.6/site-packages/urllib3/connectionpool.py\", line 639, in urlopen\n",
      "    _stacktrace=sys.exc_info()[2])\n",
      "  File \"/Users/Yvonne/miniconda3/lib/python3.6/site-packages/urllib3/util/retry.py\", line 388, in increment\n",
      "    raise MaxRetryError(_pool, url, error or ResponseError(cause))\n",
      "urllib3.exceptions.MaxRetryError: HTTPConnectionPool(host='download.finance.yahoo.com', port=80): Max retries exceeded with url: /d/quotes.csv?e=.csv&f=sl1d1t1&s=USDCAD%3DX (Caused by NewConnectionError('<urllib3.connection.HTTPConnection object at 0x110a1f860>: Failed to establish a new connection: [Errno 8] nodename nor servname provided, or not known',))\n",
      "\n",
      "During handling of the above exception, another exception occurred:\n",
      "\n",
      "Traceback (most recent call last):\n",
      "  File \"/Users/Yvonne/miniconda3/lib/python3.6/site-packages/exchange.py\", line 54, in rate\n",
      "    return fn(base, target)\n",
      "  File \"/Users/Yvonne/miniconda3/lib/python3.6/site-packages/exchange.py\", line 74, in yahoo\n",
      "    timeout=1,\n",
      "  File \"/Users/Yvonne/miniconda3/lib/python3.6/site-packages/requests/api.py\", line 72, in get\n",
      "    return request('get', url, params=params, **kwargs)\n",
      "  File \"/Users/Yvonne/miniconda3/lib/python3.6/site-packages/requests/api.py\", line 58, in request\n",
      "    return session.request(method=method, url=url, **kwargs)\n",
      "  File \"/Users/Yvonne/miniconda3/lib/python3.6/site-packages/requests/sessions.py\", line 508, in request\n",
      "    resp = self.send(prep, **send_kwargs)\n",
      "  File \"/Users/Yvonne/miniconda3/lib/python3.6/site-packages/requests/sessions.py\", line 618, in send\n",
      "    r = adapter.send(request, **kwargs)\n",
      "  File \"/Users/Yvonne/miniconda3/lib/python3.6/site-packages/requests/adapters.py\", line 508, in send\n",
      "    raise ConnectionError(e, request=request)\n",
      "requests.exceptions.ConnectionError: HTTPConnectionPool(host='download.finance.yahoo.com', port=80): Max retries exceeded with url: /d/quotes.csv?e=.csv&f=sl1d1t1&s=USDCAD%3DX (Caused by NewConnectionError('<urllib3.connection.HTTPConnection object at 0x110a1f860>: Failed to establish a new connection: [Errno 8] nodename nor servname provided, or not known',))\n"
     ]
    },
    {
     "name": "stdout",
     "output_type": "stream",
     "text": [
      "1USD = 1.29\n"
     ]
    }
   ],
   "source": [
    "import exchange\n",
    "import json\n",
    "import warnings\n",
    " \n",
    "def main():\n",
    " \n",
    "    # Full name country\n",
    "    country = \"Canada\"\n",
    " \n",
    "    # Opens JSONs\n",
    "    with open(\"countries.json\") as json_file:\n",
    "        dataCountries = json.load(json_file)\n",
    " \n",
    "    with open(\"countryCurrency.json\") as json_file:\n",
    "        dataCurrency = json.load(json_file)\n",
    " \n",
    "    try:\n",
    "        # Parses JSON file of countries and abbrevations\n",
    "        for n in range(0, len(dataCountries)):\n",
    "            # If the country's name matches the one in the JSON it takes the abbrevation of that country\n",
    "            if dataCountries[n]['name'] == country:\n",
    "                countryCode = dataCountries[n]['code']\n",
    "                break\n",
    " \n",
    "        # Takes the country's abbrevation and gets their currency (Ex. USA to USD)\n",
    "        countryCurrency = dataCurrency[countryCode]\n",
    " \n",
    "    except Exception as e:\n",
    "        print(\"An entry was no present in the JSON file.\")\n",
    "        print(e)\n",
    " \n",
    " \n",
    "    try:\n",
    "        # USD is hard coded, this can be changed.\n",
    "        # ex.rate works by sending it the USD and another country's currency, then reaches out to other places\n",
    "        # to compare and find accurate exchange rate.\n",
    "        print(\"1USD = {0:.2f}\".format(exchange.rate('USD', countryCurrency)))\n",
    "    except Exception as inst:\n",
    "        print(inst)\n",
    "        exError = inst\n",
    "        pass\n",
    " \n",
    " \n",
    "if __name__ == '__main__':\n",
    "    main()"
   ]
  },
  {
   "cell_type": "code",
   "execution_count": null,
   "metadata": {},
   "outputs": [],
   "source": []
  }
 ],
 "metadata": {
  "kernelspec": {
   "display_name": "Python 3",
   "language": "python",
   "name": "python3"
  },
  "language_info": {
   "codemirror_mode": {
    "name": "ipython",
    "version": 3
   },
   "file_extension": ".py",
   "mimetype": "text/x-python",
   "name": "python",
   "nbconvert_exporter": "python",
   "pygments_lexer": "ipython3",
   "version": "3.6.3"
  }
 },
 "nbformat": 4,
 "nbformat_minor": 2
}
