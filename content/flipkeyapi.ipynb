{
 "cells": [
  {
   "cell_type": "code",
   "execution_count": 3,
   "metadata": {},
   "outputs": [
    {
     "name": "stdout",
     "output_type": "stream",
     "text": [
      "Please enter a vacation spot for your choosing: hi\n"
     ]
    }
   ],
   "source": [
    "import requests\n",
    "import json\n",
    "\n",
    "try:\n",
    "    response = requests.get(url)  # throws an exception when it cannot connect\n",
    "    response.raise_for_status()   # throws an exception when not 'ok'\n",
    "    \n",
    "except json.decoder.JSONDecodeError as e: \n",
    "    print(\"ERROR: Cannot decode the response into json\")\n",
    "    print(\"DETAILS\", e)\n",
    "\n",
    "# response not ok\n",
    "except requests.exceptions.HTTPError as e:\n",
    "    print(\"ERROR: Response from \", url, 'was not ok.')\n",
    "    print(\"DETAILS:\", e)\n",
    "        \n",
    "# internet is broken\n",
    "except requests.exceptions.RequestException as e: \n",
    "    print(\"ERROR: Cannot connect to \", url)\n",
    "    print(\"DETAILS:\", e)\n",
    "\n",
    "except ConnectionError as e:\n",
    "    print('ERROR:',e)\n",
    "\n",
    "user_location = input(\"Please enter a vacation spot for your choosing: \")\n"
   ]
  }
 ],
 "metadata": {
  "kernelspec": {
   "display_name": "Python 3",
   "language": "python",
   "name": "python3"
  },
  "language_info": {
   "codemirror_mode": {
    "name": "ipython",
    "version": 3
   },
   "file_extension": ".py",
   "mimetype": "text/x-python",
   "name": "python",
   "nbconvert_exporter": "python",
   "pygments_lexer": "ipython3",
   "version": "3.6.3"
  }
 },
 "nbformat": 4,
 "nbformat_minor": 2
}
