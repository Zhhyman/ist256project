{
 "cells": [
  {
   "cell_type": "code",
   "execution_count": 34,
   "metadata": {},
   "outputs": [
    {
     "name": "stdout",
     "output_type": "stream",
     "text": [
      "Please enter the airport code you are coming from: \n",
      "Please enter the airport code you are going to: \n"
     ]
    },
    {
     "data": {
      "text/plain": [
       "{'currency': 'rub', 'data': {}, 'error': None, 'success': True}"
      ]
     },
     "execution_count": 34,
     "metadata": {},
     "output_type": "execute_result"
    }
   ],
   "source": [
    "import requests\n",
    "import json\n",
    "origin = input(\"Please enter the airport code you are coming from: \").upper()\n",
    "destination = input(\"Please enter the airport code you are going to: \").upper()\n",
    "month = '2018-05-05'\n",
    "params = {'origin':origin, 'destination':destination, 'month':month }\n",
    "headers = {'X-Access-Token' : '172fa57c41a4f389db82fb419cd90e58'}\n",
    "url = 'http://api.travelpayouts.com/v1/prices/cheap?origin=JFK&destination=SYR&depart_date=2018-05-10&return_date=2018-06-06&token=172fa57c41a4f389db82fb419cd90e58'\n",
    "response = requests.get(url, params=params, headers=headers)\n",
    "flight_data = response.json()\n",
    "# distance = flight_data['distance']\n",
    "# distance\n",
    "flight_data"
   ]
  },
  {
   "cell_type": "code",
   "execution_count": 9,
   "metadata": {},
   "outputs": [
    {
     "ename": "ModuleNotFoundError",
     "evalue": "No module named 'algoliasearch'",
     "output_type": "error",
     "traceback": [
      "\u001b[0;31m---------------------------------------------------------------------------\u001b[0m",
      "\u001b[0;31mModuleNotFoundError\u001b[0m                       Traceback (most recent call last)",
      "\u001b[0;32m<ipython-input-9-52789a5e92ca>\u001b[0m in \u001b[0;36m<module>\u001b[0;34m()\u001b[0m\n\u001b[0;32m----> 1\u001b[0;31m \u001b[0;32mimport\u001b[0m \u001b[0malgoliasearch\u001b[0m\u001b[0;34m\u001b[0m\u001b[0m\n\u001b[0m\u001b[1;32m      2\u001b[0m \u001b[0;34m\u001b[0m\u001b[0m\n\u001b[1;32m      3\u001b[0m \u001b[0mclient\u001b[0m \u001b[0;34m=\u001b[0m \u001b[0malgoliasearch\u001b[0m\u001b[0;34m.\u001b[0m\u001b[0mClient\u001b[0m\u001b[0;34m(\u001b[0m\u001b[0;34m\"NTYHSBOFMU\"\u001b[0m\u001b[0;34m,\u001b[0m \u001b[0;34m'74d9cc24d2d2e9c772688836ea576836'\u001b[0m\u001b[0;34m)\u001b[0m\u001b[0;34m\u001b[0m\u001b[0m\n\u001b[1;32m      4\u001b[0m \u001b[0mindex\u001b[0m \u001b[0;34m=\u001b[0m \u001b[0mclient\u001b[0m\u001b[0;34m.\u001b[0m\u001b[0minit_index\u001b[0m\u001b[0;34m(\u001b[0m\u001b[0;34m'hotels'\u001b[0m\u001b[0;34m)\u001b[0m\u001b[0;34m\u001b[0m\u001b[0m\n",
      "\u001b[0;31mModuleNotFoundError\u001b[0m: No module named 'algoliasearch'"
     ]
    }
   ],
   "source": []
  }
 ],
 "metadata": {
  "kernelspec": {
   "display_name": "Python 3",
   "language": "python",
   "name": "python3"
  },
  "language_info": {
   "codemirror_mode": {
    "name": "ipython",
    "version": 3
   },
   "file_extension": ".py",
   "mimetype": "text/x-python",
   "name": "python",
   "nbconvert_exporter": "python",
   "pygments_lexer": "ipython3",
   "version": "3.6.4"
  }
 },
 "nbformat": 4,
 "nbformat_minor": 2
}
